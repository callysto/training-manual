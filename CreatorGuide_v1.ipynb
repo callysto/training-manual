{
 "cells": [
  {
   "cell_type": "markdown",
   "metadata": {},
   "source": [
    "# Callysto Creator Guide\n",
    "M. Lamoureux. March 2018.\n",
    "\n",
    "\n",
    "## Step 1: Start with something visual and fun!"
   ]
  },
  {
   "cell_type": "code",
   "execution_count": 8,
   "metadata": {},
   "outputs": [
    {
     "data": {
      "text/html": [
       "\n",
       "        <iframe\n",
       "            width=\"500\"\n",
       "            height=\"500\"\n",
       "            src=\"mb.html\"\n",
       "            frameborder=\"0\"\n",
       "            allowfullscreen\n",
       "        ></iframe>\n",
       "        "
      ],
      "text/plain": [
       "<IPython.lib.display.IFrame at 0x10b71c940>"
      ]
     },
     "execution_count": 8,
     "metadata": {},
     "output_type": "execute_result"
    }
   ],
   "source": [
    "from IPython.display import IFrame\n",
    "\n",
    "with open('MovingBalls.template','r') as f:\n",
    "    s=f.read()\n",
    "    with open('mb.html','w') as g:\n",
    "        g.write(s)\n",
    "    \n",
    "IFrame('mb.html',500,500)\n",
    "\n",
    "# This is a hack to fool the Jupyter serving into running Javascript in an html file. "
   ]
  },
  {
   "cell_type": "markdown",
   "metadata": {},
   "source": [
    "## Table of Contents\n",
    "\n",
    "1. Step one. Start with something visual and fun!\n",
    "2. Goals of the project\n",
    "3. Team structure\n",
    "4. Agile Programming and Sprints\n",
    "5. Code resources\n",
    "6. Web resources\n",
    "7. Hacks to input html code and Javascript\n",
    "8. Making a script in Mac OS X\n"
   ]
  },
  {
   "cell_type": "markdown",
   "metadata": {},
   "source": [
    "### 2. Goals of the project\n",
    "\n",
    "**Scope:** The target for Stage 1 is to convene 15 to 20 teams to work from March 1 through June 30. (Full-time opportunities for these kinds of teams are planned for summer 2018.) PIMS and Cybera is co-investing to advance the Callysto Mission, with funding from CanCode.\n",
    "\n",
    " Operation: Cybera and PIMS are deploying resources to bring Callysto Teams together and to effectively collaborate.\n",
    "\n",
    "Site Expectations and Opportunities:\n",
    "\n",
    "- HR oversight of Callysto Team Members\n",
    "- Each team to develop 10 or more showcase modules before <2018-06-30 Sat>\n",
    "- Reports on use of funds as required by CanCODE\n",
    "- Alignment with teaching and learning mission\n",
    "- Enriched research capacity through development of computing skills\n",
    "\n",
    "Stage 1 Deliverables:\n",
    "\n",
    "- 100 Showcase Modules\n",
    "- Examples of machine conversion of standard OER textbooks\n",
    "- Validation of technology pallette\n",
    "- Scaffolding for scaling the whole project\n",
    "- 100 daily users of the Callysto Hub\n",
    "\n"
   ]
  },
  {
   "cell_type": "markdown",
   "metadata": {},
   "source": [
    "### 3. Team Structure"
   ]
  },
  {
   "cell_type": "markdown",
   "metadata": {},
   "source": [
    "### 4. Agile Programming and Sprints"
   ]
  },
  {
   "cell_type": "markdown",
   "metadata": {},
   "source": [
    "### 5. Code resources"
   ]
  },
  {
   "cell_type": "markdown",
   "metadata": {},
   "source": [
    "### 6. Web resources\n",
    "\n",
    "The Callysto server:\n",
    "\n",
    "You can create and run your Jupyter notebooks using the callysto server that is maintained by Cybera and PIMS. Just click here:\n",
    "\n",
    "[https://hub.callysto.ca](https://hub.callysto.ca)\n",
    "\n",
    "Log in using your Google ID. Note you should stick to one ID, as each instance of an ID will give you a separate server, with separate file storage. Usually you want to keep all your code in one place, so use only one ID.\n",
    "\n",
    "The Callysto github repo:\n",
    "\n",
    "[https://github.com/callysto](https://github.com/callysto)\n"
   ]
  },
  {
   "cell_type": "markdown",
   "metadata": {},
   "source": [
    "### 7. Hacks to input html code and Javascript\n",
    "\n",
    "The Jupyter server and iPython can easily display html code that is in a file. The commands for this are simply to import IFrame and then call it with the file name, and dimensions for the display:\n",
    "\n",
    "```\n",
    "from IPython.display import IFrame\n",
    "IFrame('mb.html',500,500)\n",
    "```\n",
    "\n",
    "However, the Jupyter server is sometimes very cautious about Javascript code embedded in the html file, and will attempt to 'scrub' it, removing what it thinks is dangerous. A simple hack to avoid this is to re-name the file something other than .html, read it in, and write it again with the .hmtl suffix. Somehow this convinces Jupyter that the file is safe. Which is crazy, right?\n",
    "\n",
    "Here is an example, reading in a file called \"MovingBalls.template\" and then saving it under a new name.\n",
    "\n",
    "```\n",
    "with open('MovingBalls.template','r') as f:\n",
    "    s=f.read()\n",
    "    with open('mb.html','w') as g:\n",
    "        g.write(s)\n",
    "    \n",
    "IFrame('mb.html',500,500)\n",
    "\n",
    "```\n"
   ]
  },
  {
   "cell_type": "code",
   "execution_count": 9,
   "metadata": {},
   "outputs": [
    {
     "data": {
      "text/html": [
       "\n",
       "        <iframe\n",
       "            width=\"500\"\n",
       "            height=\"500\"\n",
       "            src=\"mb.html\"\n",
       "            frameborder=\"0\"\n",
       "            allowfullscreen\n",
       "        ></iframe>\n",
       "        "
      ],
      "text/plain": [
       "<IPython.lib.display.IFrame at 0x10b71cb00>"
      ]
     },
     "execution_count": 9,
     "metadata": {},
     "output_type": "execute_result"
    }
   ],
   "source": [
    "from IPython.display import IFrame\n",
    "\n",
    "with open('MovingBalls.template','r') as f:\n",
    "    s=f.read()\n",
    "    with open('mb.html','w') as g:\n",
    "        g.write(s)\n",
    "    \n",
    "IFrame('mb.html',500,500)\n"
   ]
  },
  {
   "cell_type": "markdown",
   "metadata": {},
   "source": [
    "### 8. Making a script in Mac OS X\n",
    "\n",
    "I find it useful to have a small command file in my Code folder, that I double click and it launches Jupyter for me, localized to the folder I want. A useful solution is to create a simple text file that has a list of terminal commands and turn that into a clickable application. \n",
    "\n",
    "The steps are as follows:\n",
    "\n",
    "- Create a text file with a name like my_script.command\n",
    "- Start it with a \"shebang\" command: #!/bin/bash\n",
    "- list the terminal commands you want to run\n",
    "- save the file\n",
    "- set executive permission (i.e. in the terminal, run chmod +x /path/to/my_script.command)\n",
    "\n",
    "For instance, here is the text file I used to customize my Jupyter launch:\n",
    "\n",
    "```\n",
    "#!/bin/bash\n",
    "cd Dropbox/PIMS_Innovation/2018_CanCode/CallystoCode\n",
    "jupyter notebook\n",
    "```\n",
    "\n",
    "That's all you need. I am sure there are similar methods in UNIX or Windows. \n",
    "\n"
   ]
  },
  {
   "cell_type": "code",
   "execution_count": null,
   "metadata": {},
   "outputs": [],
   "source": []
  }
 ],
 "metadata": {
  "kernelspec": {
   "display_name": "Python 3",
   "language": "python",
   "name": "python3"
  },
  "language_info": {
   "codemirror_mode": {
    "name": "ipython",
    "version": 3
   },
   "file_extension": ".py",
   "mimetype": "text/x-python",
   "name": "python",
   "nbconvert_exporter": "python",
   "pygments_lexer": "ipython3",
   "version": "3.6.4"
  }
 },
 "nbformat": 4,
 "nbformat_minor": 2
}
